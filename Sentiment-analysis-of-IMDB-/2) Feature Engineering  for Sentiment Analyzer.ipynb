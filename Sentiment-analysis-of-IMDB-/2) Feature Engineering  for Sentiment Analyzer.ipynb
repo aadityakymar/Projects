{
 "cells": [
  {
   "cell_type": "markdown",
   "id": "86584429",
   "metadata": {},
   "source": [
    "## Importing all dependencies "
   ]
  },
  {
   "cell_type": "code",
   "execution_count": 1,
   "id": "528d0f53",
   "metadata": {},
   "outputs": [],
   "source": [
    "import numpy as np\n",
    "import pandas as pd\n",
    "import seaborn as sns\n",
    "import matplotlib.pyplot as plt\n",
    "import plotly.express as px\n",
    "import nltk\n",
    "from sklearn.feature_extraction.text import CountVectorizer\n",
    "from wordcloud import WordCloud,STOPWORDS\n",
    "from nltk.stem import WordNetLemmatizer\n",
    "from nltk.tokenize import word_tokenize\n",
    "import re,string,unicodedata\n",
    "from sklearn.metrics import classification_report,confusion_matrix,accuracy_score,f1_score\n",
    "from sklearn.model_selection import train_test_split\n",
    "from string import punctuation\n",
    "from nltk import pos_tag\n",
    "from nltk.corpus import wordnet\n",
    "import re\n",
    "import warnings\n",
    "warnings.filterwarnings('ignore')\n",
    "import matplotlib.pyplot as plt"
   ]
  },
  {
   "cell_type": "markdown",
   "id": "a7c6d02b",
   "metadata": {},
   "source": [
    "## Loading of Data"
   ]
  },
  {
   "cell_type": "code",
   "execution_count": 3,
   "id": "21565e2b",
   "metadata": {},
   "outputs": [
    {
     "name": "stdout",
     "output_type": "stream",
     "text": [
      "CPU times: total: 7.27 s\n",
      "Wall time: 7.54 s\n"
     ]
    }
   ],
   "source": [
    "%%time \n",
    "df = pd.read_csv('IMDB-Dataset.csv')"
   ]
  },
  {
   "cell_type": "markdown",
   "id": "0c7142c7",
   "metadata": {},
   "source": [
    "## Data Cleaning and Preprocessing"
   ]
  },
  {
   "cell_type": "code",
   "execution_count": 5,
   "id": "5b8d7538",
   "metadata": {},
   "outputs": [
    {
     "name": "stdout",
     "output_type": "stream",
     "text": [
      "{'yours', \"we're\", 'which', 'other', 'had', 'don', 'an', 'during', \"hasn't\", 'ain', \"that'll\", 'before', 'but', \"he'd\", 'i', 'we', 'your', 't', 'who', 'theirs', 'between', 'they', 'all', \"you're\", \"i've\", 'why', 'what', 'out', 'shouldn', 'nor', 'while', \"won't\", 'y', \"they've\", 'then', 'those', 'over', \"you'd\", 'for', 'below', 'here', 'under', 'do', \"i'd\", 'just', \"you'll\", 'll', 'shan', \"haven't\", 'mightn', 'by', 's', \"wasn't\", 'doing', 'weren', 'again', 'on', 'own', 'about', 'against', 'from', \"it's\", 'few', 'd', 'have', \"he'll\", 'hasn', 'aren', 'the', 'didn', \"couldn't\", \"they're\", 'wasn', 'himself', \"it'd\", 'than', 'were', 'both', 'their', \"aren't\", 'through', 'hers', \"she'll\", \"mightn't\", 'ours', \"we'll\", 'them', \"we'd\", 'wouldn', 'shall', 'might', 'ourselves', 'most', 'did', 're', 'will', 'been', 'he', 'itself', 'being', 'until', 'its', \"wouldn't\", \"shouldn't\", 'ma', 'each', \"should've\", \"you've\", 'in', 'yourselves', 'any', 'm', 'you', 'a', \"isn't\", \"don't\", 'down', 'some', 'is', 'at', 'to', 'up', 'o', 'be', 'and', \"hadn't\", 'as', 'after', 'above', \"i'm\", 'because', 'too', 'into', \"doesn't\", 'his', 'when', 'such', 'was', \"she's\", 'herself', 'whom', 'my', 'this', 've', \"weren't\", 'or', \"i'll\", \"they'd\", 'won', 'needn', 'how', 'him', 'off', 'me', 'mustn', 'with', 'does', 'myself', 'that', \"she'd\", 'hadn', 'of', 'yourself', 'once', 'haven', 'if', 'has', 'having', 'our', \"he's\", 'themselves', \"it'll\", \"needn't\", 'same', 'am', 'are', \"didn't\", 'doesn', 'she', \"mustn't\", 'should', 'couldn', 'would', 'now', 'only', 'could', 'can', \"we've\", 'no', 'her', 'isn', 'there', 'very', 'it', 'further', 'more', \"they'll\", \"shan't\", 'these', 'where', 'so'}\n"
     ]
    }
   ],
   "source": [
    "#Customize stopword as per data\n",
    "from nltk.corpus import stopwords\n",
    "stop_words = stopwords.words('english')\n",
    "new_stopwords = [\"would\",\"shall\",\"could\",\"might\"]\n",
    "stop_words.extend(new_stopwords)\n",
    "stop_words.remove(\"not\")\n",
    "stop_words=set(stop_words)\n",
    "print(stop_words)"
   ]
  },
  {
   "cell_type": "code",
   "execution_count": 6,
   "id": "1d08805d",
   "metadata": {},
   "outputs": [],
   "source": [
    "'''-----------------------------Data Cleaning and Preprocessing pipeline----------------------------------'''\n",
    "\n",
    "#Removing special character\n",
    "def remove_special_character(content):\n",
    "    return re.sub('\\W+',' ', content )#re.sub('\\[[^&@#!]]*\\]', '', content)\n",
    "\n",
    "# Removing URL's\n",
    "def remove_url(content):\n",
    "    return re.sub(r'http\\S+', '', content)\n",
    "\n",
    "#Removing the stopwords from text\n",
    "def remove_stopwords(content):\n",
    "    clean_data = []\n",
    "    for i in content.split():\n",
    "        if i.strip().lower() not in stop_words and i.strip().lower().isalpha():\n",
    "            clean_data.append(i.strip().lower())\n",
    "    return \" \".join(clean_data)\n",
    "\n",
    "# Expansion of english contractions\n",
    "def contraction_expansion(content):\n",
    "    content = re.sub(r\"won\\'t\", \"would not\", content)\n",
    "    content = re.sub(r\"can\\'t\", \"can not\", content)\n",
    "    content = re.sub(r\"don\\'t\", \"do not\", content)\n",
    "    content = re.sub(r\"shouldn\\'t\", \"should not\", content)\n",
    "    content = re.sub(r\"needn\\'t\", \"need not\", content)\n",
    "    content = re.sub(r\"hasn\\'t\", \"has not\", content)\n",
    "    content = re.sub(r\"haven\\'t\", \"have not\", content)\n",
    "    content = re.sub(r\"weren\\'t\", \"were not\", content)\n",
    "    content = re.sub(r\"mightn\\'t\", \"might not\", content)\n",
    "    content = re.sub(r\"didn\\'t\", \"did not\", content)\n",
    "    content = re.sub(r\"n\\'t\", \" not\", content)\n",
    "    '''content = re.sub(r\"\\'re\", \" are\", content)\n",
    "    content = re.sub(r\"\\'s\", \" is\", content)\n",
    "    content = re.sub(r\"\\'d\", \" would\", content)\n",
    "    content = re.sub(r\"\\'ll\", \" will\", content)\n",
    "    content = re.sub(r\"\\'t\", \" not\", content)\n",
    "    content = re.sub(r\"\\'ve\", \" have\", content)\n",
    "    content = re.sub(r\"\\'m\", \" am\", content)'''\n",
    "    return content\n",
    "\n",
    "#Data preprocessing\n",
    "def data_cleaning(content):\n",
    "    content = contraction_expansion(content)\n",
    "    content = remove_special_character(content)\n",
    "    content = remove_url(content)\n",
    "    \n",
    "    content = remove_stopwords(content)    \n",
    "    return content"
   ]
  },
  {
   "cell_type": "code",
   "execution_count": 7,
   "id": "0cb5cf59",
   "metadata": {},
   "outputs": [
    {
     "name": "stdout",
     "output_type": "stream",
     "text": [
      "CPU times: total: 35.4 s\n",
      "Wall time: 36.6 s\n"
     ]
    },
    {
     "data": {
      "text/html": [
       "<div>\n",
       "<style scoped>\n",
       "    .dataframe tbody tr th:only-of-type {\n",
       "        vertical-align: middle;\n",
       "    }\n",
       "\n",
       "    .dataframe tbody tr th {\n",
       "        vertical-align: top;\n",
       "    }\n",
       "\n",
       "    .dataframe thead th {\n",
       "        text-align: right;\n",
       "    }\n",
       "</style>\n",
       "<table border=\"1\" class=\"dataframe\">\n",
       "  <thead>\n",
       "    <tr style=\"text-align: right;\">\n",
       "      <th></th>\n",
       "      <th>Ratings</th>\n",
       "      <th>Reviews</th>\n",
       "      <th>Movies</th>\n",
       "      <th>Resenhas</th>\n",
       "      <th>Reviews_clean</th>\n",
       "    </tr>\n",
       "  </thead>\n",
       "  <tbody>\n",
       "    <tr>\n",
       "      <th>0</th>\n",
       "      <td>1.0</td>\n",
       "      <td>*Disclaimer: I only watched this movie as a conditional agreement. And I see films for free. I wouldn't be caught dead giving my hard earned money to these idiots.Well, to explain the depth of this 'film', I could write my shortest review, ever. Don't see this movie. It is by far the stupidest, lamest, most lazy, and unbelievably UNFUNNY movie I have ever seen. It is a total disaster. But since my hatred for this movie, and the others like it, extends far beyond one viewing, I think I'll go on for a bit.I don't know any of the people in the movie besides Carmen Electra, Vanessa Minnillo, and Kim Kardashian, but it doesn't matter. They're all horrible, though I think that was the point. The editing is flat out horrible, and possibly blatant continuity errors make this crapfast even crappier than I thought it would be. Now I know that these films are not supposed to be serious at all, but come on, it's film-making 101 that if someone gets a minor facial cut, it should be there in the...</td>\n",
       "      <td>Disaster Movie</td>\n",
       "      <td>* Isenção de responsabilidade: eu só assisti esse filme como um acordo condicional. E eu vejo filmes de graça. Eu não seria pego morto dando meu dinheiro suado a esses idiotas. Bem, para explicar a profundidade desse 'filme', eu poderia escrever minha crítica mais curta de todos os tempos. Não vê este filme. É de longe o filme mais estúpido, lamenta, preguiçoso e inacreditavelmente UNFUNNY que eu já vi. É um desastre total. Mas como o meu ódio por este filme e por outros, se estende muito além de uma exibição, acho que vou continuar um pouco. Não conheço nenhuma das pessoas do filme além de Carmen Electra, Vanessa Minnillo, e Kim Kardashian, mas isso não importa. Eles são todos horríveis, embora eu ache que esse seja o ponto. A edição é horrível e, possivelmente, erros de continuidade flagrantes tornam essa porcaria ainda mais horrível do que eu pensava. Agora eu sei que esses filmes não devem ser sérios, mas vamos lá, é o cinema 101 que se alguém fizer um pequeno corte facial, ele...</td>\n",
       "      <td>disclaimer watched movie conditional agreement see films free not caught dead giving hard earned money idiots well explain depth film write shortest review ever not see movie far stupidest lamest lazy unbelievably unfunny movie ever seen total disaster since hatred movie others like extends far beyond one viewing think go bit not know people movie besides carmen electra vanessa minnillo kim kardashian not matter horrible though think point editing flat horrible possibly blatant continuity errors make crapfast even crappier thought know films not supposed serious come film making someone gets minor facial cut next shot someone gets cut sword blood least cut though since narnia films get away give disaster movie pass jokes thoughtless mindless physical gags obviously take popular movies last year late well including best picture nominees know saddest thing stupid movies not care much money make many cameos sorry ass excuses films taking away jobs actors writers directors truly deserv...</td>\n",
       "    </tr>\n",
       "    <tr>\n",
       "      <th>1</th>\n",
       "      <td>1.0</td>\n",
       "      <td>I am writing this in hopes that this gets put over the previous review of this \"film\". How anyone can find this slop entertaining is completely beyond me. First of all a spoof film entitled \"Disaster Movie\", should indeed be a spoof on disaster films. Now I have seen 1 (yes count them, 1) disaster film being spoofed, that being \"Twister\". How does Juno, Iron Man, Batman, The Hulk, Alvin and the Chipmunks, Amy Winehouse, or Hancock register as Disaster films? Selzterwater and Failburg once again have shown that they lack any sort of writing skill and humor. Having unfortunately been tortured with Date Movie and Epic Movie I know exactly what to expect from these two...no plot, no jokes just bad references and cheaply remade scenes from other films. Someone should have informed them that satire is more than just copy and paste from one film to another, though I shouldn't say that because some of these actually just seem to be taken from trailers.There is nothing clever or witty or re...</td>\n",
       "      <td>Disaster Movie</td>\n",
       "      <td>Estou escrevendo isso na esperança de que isso seja colocado sobre a revisão anterior deste \"filme\". Como alguém pode achar divertido esse desleixo está completamente além de mim. Antes de mais nada, um filme de paródia intitulado \"Filme de desastre\" deveria ser, de fato, uma paródia de filmes de desastre. Agora eu já vi 1 (sim, conte-os, 1) filme de desastre sendo falsificado, sendo \"Twister\". Como Juno, Homem de Ferro, Batman, O Hulk, Alvin e os Esquilos, Amy Winehouse ou Hancock se registram como filmes de Desastre? Selzterwater e Failburg mostraram mais uma vez que não possuem nenhum tipo de habilidade e humor de escrita. Infelizmente, tendo sido torturado com Date Movie e Epic Movie, sei exatamente o que esperar desses dois ... nenhum enredo, nenhuma piada, apenas más referências e cenas refeitas de outros filmes. Alguém deveria ter informado a eles que a sátira é mais do que apenas copiar e colar de um filme para outro, embora eu não deva dizer isso porque alguns deles realme...</td>\n",
       "      <td>writing hopes gets put previous review film anyone find slop entertaining completely beyond first spoof film entitled disaster movie indeed spoof disaster films seen yes count disaster film spoofed twister juno iron man batman hulk alvin chipmunks amy winehouse hancock register disaster films selzterwater failburg shown lack sort writing skill humor unfortunately tortured date movie epic movie know exactly expect two plot jokes bad references cheaply remade scenes films someone informed satire copy paste one film another though not say actually seem taken trailers nothing clever witty remotely smart way two write not believe people still pay see travesties insult audience though enjoy films doubt smart enough realize rating unfortunately not number low enough yes includes negatives rate deserves top worst films time right date movie epic faliure mean movie meet spartans rather forced hour manos hands fate marathon watch slop</td>\n",
       "    </tr>\n",
       "    <tr>\n",
       "      <th>2</th>\n",
       "      <td>1.0</td>\n",
       "      <td>Really, I could write a scathing review of this turd sandwich, but instead, I'm just going to be making a few observations and points I've deduced.There's just no point in watching these movies anymore. Does any reader out there remember Scary Movie? Remember how it was original with a few comedic elements to it? There was slapstick, some funny lines, it was a pretty forgettable comedy, but it was worth the price of admission. Well, That was the last time this premise was funny. STOP MAKING THESE MOVIES. PLEASE.I could call for a boycott of these pieces of monkey sh*t, but we all know there's going to be a line up of pre pubescent annoying little buggers, spouting crappy one liners like, \"THIS IS SPARTA!\" and, \"IM RICK JAMES BITCH\" so these movies will continue to make some form of monetary gain, considering the production value of this movie looks like it cost about 10 cents to make.Don't see this movie. Don't spend any money on it. Go home, rent Airplane, laugh your ass off, and ...</td>\n",
       "      <td>Disaster Movie</td>\n",
       "      <td>Realmente, eu poderia escrever uma crítica contundente sobre esse sanduíche de cocô, mas, em vez disso, vou fazer algumas observações e pontos que deduzi. Não há mais sentido assistir a esses filmes. Algum leitor por aí se lembra do filme de terror? Lembra como era original, com alguns elementos cômicos? Havia palhaçada, algumas frases engraçadas, era uma comédia bastante esquecível, mas valia o preço da entrada. Bem, essa foi a última vez que essa premissa foi engraçada. PARE DE FAZER ESTES FILMES. POR FAVOR, eu poderia pedir um boicote a esses pedaços de macaco, mas todos sabemos que haverá uma fila de buggers irritantes e pré-pubescentes, jorrando uns forros ruins como: \"ISTO É SPARTA!\" e \"IM RICK JAMES BITCH\", para que esses filmes continuem gerando algum ganho monetário, considerando que o valor de produção deste filme parece custar cerca de 10 centavos de dólar. Não gaste dinheiro com isso. Vá para casa, alugue a Airplane, ria e julgue silenciosamente as pessoas que estão fal...</td>\n",
       "      <td>really write scathing review turd sandwich instead going making observations points deduced point watching movies anymore reader remember scary movie remember original comedic elements slapstick funny lines pretty forgettable comedy worth price admission well last time premise funny stop making movies please call boycott pieces monkey sh know going line pre pubescent annoying little buggers spouting crappy one liners like sparta im rick james bitch movies continue make form monetary gain considering production value movie looks like cost cents make not see movie not spend money go home rent airplane laugh ass silently judge people talking movie monday favor</td>\n",
       "    </tr>\n",
       "    <tr>\n",
       "      <th>3</th>\n",
       "      <td>1.0</td>\n",
       "      <td>If you saw the other previous spoof movies by these two horrible gentlemen, then you should know that this already will be bad. I'll tell you the truth, if you want to watch it as a brainless person (ironically meant for the stereotypical teenagers, which I am not) then you will laugh at it a bit. But if you judge it, even a little, the movie automatically fails. Why? Never ask that when it comes to these two men.Remember the good old Hollywood days whenever making a movie was about showing people a type of art, and also a story that kept you on the edge of your seat? Well whenever word hit that making films earned you loads of cash, then all these greedy people came in the picture and its quite pathetic. These two are no exception. We still have movie artists (most notably the genius that is Christopher Nolan). But these two guys just...well I've been writing so big words, let me put it in simple terms for these guys...These guys suck, they are not artists, but instead money cravi...</td>\n",
       "      <td>Disaster Movie</td>\n",
       "      <td>Se você viu os outros filmes falsificados anteriores por esses dois senhores horríveis, deve saber que isso já será ruim. Vou lhe dizer a verdade, se você quiser vê-lo como uma pessoa sem cérebro (ironicamente para os adolescentes estereotipados, o que eu não sou), então você rirá um pouco. Mas se você julgar, mesmo que um pouco, o filme falha automaticamente. Por quê? Nunca pergunte isso quando se trata desses dois homens. Lembre-se dos bons e velhos tempos de Hollywood, sempre que fazer um filme era mostrar às pessoas um tipo de arte e também uma história que o mantinha na ponta do seu assento? Bem, sempre que a notícia de que fazer filmes ganhava muito dinheiro, então todas essas pessoas gananciosas apareciam na imagem e é bastante patético. Esses dois não são exceção. Ainda temos artistas de filmes (principalmente o gênio Christopher Nolan). Mas esses dois caras simplesmente ... bem, eu tenho escrito palavras tão grandes, deixe-me colocar em termos simples para esses caras ... ...</td>\n",
       "      <td>saw previous spoof movies two horrible gentlemen know already bad tell truth want watch brainless person ironically meant stereotypical teenagers not laugh bit judge even little movie automatically fails never ask comes two men remember good old hollywood days whenever making movie showing people type art also story kept edge seat well whenever word hit making films earned loads cash greedy people came picture quite pathetic two exception still movie artists notably genius christopher nolan two guys well writing big words let put simple terms guys guys suck not artists instead money craving whores latest movie proves even movie fails easily mind blowing mean nothing funny trailer people usually put best stuff like idiots sometimes knew going bad made bet friends not good idea write movie reviews paper tell everyone whats good whats bad friends flipped review well warning least not even called movie nothing artistic original jokes sorry references made throughout pretty much random ...</td>\n",
       "    </tr>\n",
       "    <tr>\n",
       "      <th>4</th>\n",
       "      <td>1.0</td>\n",
       "      <td>This movie I saw a day early for free and I still feel like I got ripped off. It is totally brain dead. Burping, kicking in the groin and boobs all over the place. Lame. What is wrong with society, that films like this even get made? The parodies were all horrendous, and un-funny. The plot was lackluster at best and the acting was shallow, transparent and really quite unnecessary.Anyone see \"Idiocracy\"? Remember the movie that won all the academy awards in the future? Well this is that movie. I have not seen a more rancid crappy film. \"Date Movie\" was okay, The Scary movies at least had decent plots, but this, this makes \"spoofs\" (if I can be so nice to call it that) for this year 0 for 3, with \"Meet the Spartans\" and \"Superhero Movie\" all falling flat.Well I've wasted even more of my life typing about this sack of cow dung. So all in all, don't see this movie, unless of course your IQ is below 80.Thanks, R</td>\n",
       "      <td>Disaster Movie</td>\n",
       "      <td>Este filme eu vi um dia cedo de graça e ainda sinto que fui enganado. É totalmente morte cerebral. Arrotando, chutando a virilha e os peitos por todo o lugar. Coxo. O que há de errado com a sociedade, que filmes como esse são feitos? As paródias eram todas horrendas e pouco engraçadas. O enredo foi sem brilho, na melhor das hipóteses, e a atuação foi superficial, transparente e realmente bastante desnecessária. Alguém vê \"Idiocracia\"? Lembra do filme que ganhou todos os prêmios da academia no futuro? Bem, este é esse filme. Eu não vi um filme de baixa qualidade mais rançoso. \"Date Movie\" foi bom, The Scary Movies pelo menos teve enredos decentes, mas isso faz \"spoofs\" (se é que posso dizer assim) para este ano 0 para 3, com \"Meet the Spartans\" e \"Filme de super-heróis\" todos caindo. Bem, eu perdi ainda mais da minha vida digitando sobre esse saco de esterco de vaca. Então, apesar de tudo, não assista a este filme, a menos que o seu QI seja inferior a 80.</td>\n",
       "      <td>movie saw day early free still feel like got ripped totally brain dead burping kicking groin boobs place lame wrong society films like even get made parodies horrendous un funny plot lackluster best acting shallow transparent really quite unnecessary anyone see idiocracy remember movie academy awards future well movie not seen rancid crappy film date movie okay scary movies least decent plots makes spoofs nice call year meet spartans superhero movie falling flat well wasted even life typing sack cow dung not see movie unless course iq thanks r</td>\n",
       "    </tr>\n",
       "  </tbody>\n",
       "</table>\n",
       "</div>"
      ],
      "text/plain": [
       "   Ratings  \\\n",
       "0      1.0   \n",
       "1      1.0   \n",
       "2      1.0   \n",
       "3      1.0   \n",
       "4      1.0   \n",
       "\n",
       "                                                                                                                                                                                                                                                                                                                                                                                                                                                                                                                                                                                                                                                                                                                                                                                                                                                                                                                                                                                                                                   Reviews  \\\n",
       "0  *Disclaimer: I only watched this movie as a conditional agreement. And I see films for free. I wouldn't be caught dead giving my hard earned money to these idiots.Well, to explain the depth of this 'film', I could write my shortest review, ever. Don't see this movie. It is by far the stupidest, lamest, most lazy, and unbelievably UNFUNNY movie I have ever seen. It is a total disaster. But since my hatred for this movie, and the others like it, extends far beyond one viewing, I think I'll go on for a bit.I don't know any of the people in the movie besides Carmen Electra, Vanessa Minnillo, and Kim Kardashian, but it doesn't matter. They're all horrible, though I think that was the point. The editing is flat out horrible, and possibly blatant continuity errors make this crapfast even crappier than I thought it would be. Now I know that these films are not supposed to be serious at all, but come on, it's film-making 101 that if someone gets a minor facial cut, it should be there in the...   \n",
       "1  I am writing this in hopes that this gets put over the previous review of this \"film\". How anyone can find this slop entertaining is completely beyond me. First of all a spoof film entitled \"Disaster Movie\", should indeed be a spoof on disaster films. Now I have seen 1 (yes count them, 1) disaster film being spoofed, that being \"Twister\". How does Juno, Iron Man, Batman, The Hulk, Alvin and the Chipmunks, Amy Winehouse, or Hancock register as Disaster films? Selzterwater and Failburg once again have shown that they lack any sort of writing skill and humor. Having unfortunately been tortured with Date Movie and Epic Movie I know exactly what to expect from these two...no plot, no jokes just bad references and cheaply remade scenes from other films. Someone should have informed them that satire is more than just copy and paste from one film to another, though I shouldn't say that because some of these actually just seem to be taken from trailers.There is nothing clever or witty or re...   \n",
       "2  Really, I could write a scathing review of this turd sandwich, but instead, I'm just going to be making a few observations and points I've deduced.There's just no point in watching these movies anymore. Does any reader out there remember Scary Movie? Remember how it was original with a few comedic elements to it? There was slapstick, some funny lines, it was a pretty forgettable comedy, but it was worth the price of admission. Well, That was the last time this premise was funny. STOP MAKING THESE MOVIES. PLEASE.I could call for a boycott of these pieces of monkey sh*t, but we all know there's going to be a line up of pre pubescent annoying little buggers, spouting crappy one liners like, \"THIS IS SPARTA!\" and, \"IM RICK JAMES BITCH\" so these movies will continue to make some form of monetary gain, considering the production value of this movie looks like it cost about 10 cents to make.Don't see this movie. Don't spend any money on it. Go home, rent Airplane, laugh your ass off, and ...   \n",
       "3  If you saw the other previous spoof movies by these two horrible gentlemen, then you should know that this already will be bad. I'll tell you the truth, if you want to watch it as a brainless person (ironically meant for the stereotypical teenagers, which I am not) then you will laugh at it a bit. But if you judge it, even a little, the movie automatically fails. Why? Never ask that when it comes to these two men.Remember the good old Hollywood days whenever making a movie was about showing people a type of art, and also a story that kept you on the edge of your seat? Well whenever word hit that making films earned you loads of cash, then all these greedy people came in the picture and its quite pathetic. These two are no exception. We still have movie artists (most notably the genius that is Christopher Nolan). But these two guys just...well I've been writing so big words, let me put it in simple terms for these guys...These guys suck, they are not artists, but instead money cravi...   \n",
       "4                                                                                 This movie I saw a day early for free and I still feel like I got ripped off. It is totally brain dead. Burping, kicking in the groin and boobs all over the place. Lame. What is wrong with society, that films like this even get made? The parodies were all horrendous, and un-funny. The plot was lackluster at best and the acting was shallow, transparent and really quite unnecessary.Anyone see \"Idiocracy\"? Remember the movie that won all the academy awards in the future? Well this is that movie. I have not seen a more rancid crappy film. \"Date Movie\" was okay, The Scary movies at least had decent plots, but this, this makes \"spoofs\" (if I can be so nice to call it that) for this year 0 for 3, with \"Meet the Spartans\" and \"Superhero Movie\" all falling flat.Well I've wasted even more of my life typing about this sack of cow dung. So all in all, don't see this movie, unless of course your IQ is below 80.Thanks, R   \n",
       "\n",
       "           Movies  \\\n",
       "0  Disaster Movie   \n",
       "1  Disaster Movie   \n",
       "2  Disaster Movie   \n",
       "3  Disaster Movie   \n",
       "4  Disaster Movie   \n",
       "\n",
       "                                                                                                                                                                                                                                                                                                                                                                                                                                                                                                                                                                                                                                                                                                                                                                                                                                                                                                                                                                                                                                  Resenhas  \\\n",
       "0  * Isenção de responsabilidade: eu só assisti esse filme como um acordo condicional. E eu vejo filmes de graça. Eu não seria pego morto dando meu dinheiro suado a esses idiotas. Bem, para explicar a profundidade desse 'filme', eu poderia escrever minha crítica mais curta de todos os tempos. Não vê este filme. É de longe o filme mais estúpido, lamenta, preguiçoso e inacreditavelmente UNFUNNY que eu já vi. É um desastre total. Mas como o meu ódio por este filme e por outros, se estende muito além de uma exibição, acho que vou continuar um pouco. Não conheço nenhuma das pessoas do filme além de Carmen Electra, Vanessa Minnillo, e Kim Kardashian, mas isso não importa. Eles são todos horríveis, embora eu ache que esse seja o ponto. A edição é horrível e, possivelmente, erros de continuidade flagrantes tornam essa porcaria ainda mais horrível do que eu pensava. Agora eu sei que esses filmes não devem ser sérios, mas vamos lá, é o cinema 101 que se alguém fizer um pequeno corte facial, ele...   \n",
       "1  Estou escrevendo isso na esperança de que isso seja colocado sobre a revisão anterior deste \"filme\". Como alguém pode achar divertido esse desleixo está completamente além de mim. Antes de mais nada, um filme de paródia intitulado \"Filme de desastre\" deveria ser, de fato, uma paródia de filmes de desastre. Agora eu já vi 1 (sim, conte-os, 1) filme de desastre sendo falsificado, sendo \"Twister\". Como Juno, Homem de Ferro, Batman, O Hulk, Alvin e os Esquilos, Amy Winehouse ou Hancock se registram como filmes de Desastre? Selzterwater e Failburg mostraram mais uma vez que não possuem nenhum tipo de habilidade e humor de escrita. Infelizmente, tendo sido torturado com Date Movie e Epic Movie, sei exatamente o que esperar desses dois ... nenhum enredo, nenhuma piada, apenas más referências e cenas refeitas de outros filmes. Alguém deveria ter informado a eles que a sátira é mais do que apenas copiar e colar de um filme para outro, embora eu não deva dizer isso porque alguns deles realme...   \n",
       "2  Realmente, eu poderia escrever uma crítica contundente sobre esse sanduíche de cocô, mas, em vez disso, vou fazer algumas observações e pontos que deduzi. Não há mais sentido assistir a esses filmes. Algum leitor por aí se lembra do filme de terror? Lembra como era original, com alguns elementos cômicos? Havia palhaçada, algumas frases engraçadas, era uma comédia bastante esquecível, mas valia o preço da entrada. Bem, essa foi a última vez que essa premissa foi engraçada. PARE DE FAZER ESTES FILMES. POR FAVOR, eu poderia pedir um boicote a esses pedaços de macaco, mas todos sabemos que haverá uma fila de buggers irritantes e pré-pubescentes, jorrando uns forros ruins como: \"ISTO É SPARTA!\" e \"IM RICK JAMES BITCH\", para que esses filmes continuem gerando algum ganho monetário, considerando que o valor de produção deste filme parece custar cerca de 10 centavos de dólar. Não gaste dinheiro com isso. Vá para casa, alugue a Airplane, ria e julgue silenciosamente as pessoas que estão fal...   \n",
       "3  Se você viu os outros filmes falsificados anteriores por esses dois senhores horríveis, deve saber que isso já será ruim. Vou lhe dizer a verdade, se você quiser vê-lo como uma pessoa sem cérebro (ironicamente para os adolescentes estereotipados, o que eu não sou), então você rirá um pouco. Mas se você julgar, mesmo que um pouco, o filme falha automaticamente. Por quê? Nunca pergunte isso quando se trata desses dois homens. Lembre-se dos bons e velhos tempos de Hollywood, sempre que fazer um filme era mostrar às pessoas um tipo de arte e também uma história que o mantinha na ponta do seu assento? Bem, sempre que a notícia de que fazer filmes ganhava muito dinheiro, então todas essas pessoas gananciosas apareciam na imagem e é bastante patético. Esses dois não são exceção. Ainda temos artistas de filmes (principalmente o gênio Christopher Nolan). Mas esses dois caras simplesmente ... bem, eu tenho escrito palavras tão grandes, deixe-me colocar em termos simples para esses caras ... ...   \n",
       "4                                 Este filme eu vi um dia cedo de graça e ainda sinto que fui enganado. É totalmente morte cerebral. Arrotando, chutando a virilha e os peitos por todo o lugar. Coxo. O que há de errado com a sociedade, que filmes como esse são feitos? As paródias eram todas horrendas e pouco engraçadas. O enredo foi sem brilho, na melhor das hipóteses, e a atuação foi superficial, transparente e realmente bastante desnecessária. Alguém vê \"Idiocracia\"? Lembra do filme que ganhou todos os prêmios da academia no futuro? Bem, este é esse filme. Eu não vi um filme de baixa qualidade mais rançoso. \"Date Movie\" foi bom, The Scary Movies pelo menos teve enredos decentes, mas isso faz \"spoofs\" (se é que posso dizer assim) para este ano 0 para 3, com \"Meet the Spartans\" e \"Filme de super-heróis\" todos caindo. Bem, eu perdi ainda mais da minha vida digitando sobre esse saco de esterco de vaca. Então, apesar de tudo, não assista a este filme, a menos que o seu QI seja inferior a 80.   \n",
       "\n",
       "                                                                                                                                                                                                                                                                                                                                                                                                                                                                                                                                                                                                                                                                                                                                                                                                                                                                                                                                                                                                                             Reviews_clean  \n",
       "0  disclaimer watched movie conditional agreement see films free not caught dead giving hard earned money idiots well explain depth film write shortest review ever not see movie far stupidest lamest lazy unbelievably unfunny movie ever seen total disaster since hatred movie others like extends far beyond one viewing think go bit not know people movie besides carmen electra vanessa minnillo kim kardashian not matter horrible though think point editing flat horrible possibly blatant continuity errors make crapfast even crappier thought know films not supposed serious come film making someone gets minor facial cut next shot someone gets cut sword blood least cut though since narnia films get away give disaster movie pass jokes thoughtless mindless physical gags obviously take popular movies last year late well including best picture nominees know saddest thing stupid movies not care much money make many cameos sorry ass excuses films taking away jobs actors writers directors truly deserv...  \n",
       "1                                                               writing hopes gets put previous review film anyone find slop entertaining completely beyond first spoof film entitled disaster movie indeed spoof disaster films seen yes count disaster film spoofed twister juno iron man batman hulk alvin chipmunks amy winehouse hancock register disaster films selzterwater failburg shown lack sort writing skill humor unfortunately tortured date movie epic movie know exactly expect two plot jokes bad references cheaply remade scenes films someone informed satire copy paste one film another though not say actually seem taken trailers nothing clever witty remotely smart way two write not believe people still pay see travesties insult audience though enjoy films doubt smart enough realize rating unfortunately not number low enough yes includes negatives rate deserves top worst films time right date movie epic faliure mean movie meet spartans rather forced hour manos hands fate marathon watch slop  \n",
       "2                                                                                                                                                                                                                                                                                                                                                really write scathing review turd sandwich instead going making observations points deduced point watching movies anymore reader remember scary movie remember original comedic elements slapstick funny lines pretty forgettable comedy worth price admission well last time premise funny stop making movies please call boycott pieces monkey sh know going line pre pubescent annoying little buggers spouting crappy one liners like sparta im rick james bitch movies continue make form monetary gain considering production value movie looks like cost cents make not see movie not spend money go home rent airplane laugh ass silently judge people talking movie monday favor  \n",
       "3  saw previous spoof movies two horrible gentlemen know already bad tell truth want watch brainless person ironically meant stereotypical teenagers not laugh bit judge even little movie automatically fails never ask comes two men remember good old hollywood days whenever making movie showing people type art also story kept edge seat well whenever word hit making films earned loads cash greedy people came picture quite pathetic two exception still movie artists notably genius christopher nolan two guys well writing big words let put simple terms guys guys suck not artists instead money craving whores latest movie proves even movie fails easily mind blowing mean nothing funny trailer people usually put best stuff like idiots sometimes knew going bad made bet friends not good idea write movie reviews paper tell everyone whats good whats bad friends flipped review well warning least not even called movie nothing artistic original jokes sorry references made throughout pretty much random ...  \n",
       "4                                                                                                                                                                                                                                                                                                                                                                                                                                                                    movie saw day early free still feel like got ripped totally brain dead burping kicking groin boobs place lame wrong society films like even get made parodies horrendous un funny plot lackluster best acting shallow transparent really quite unnecessary anyone see idiocracy remember movie academy awards future well movie not seen rancid crappy film date movie okay scary movies least decent plots makes spoofs nice call year meet spartans superhero movie falling flat well wasted even life typing sack cow dung not see movie unless course iq thanks r  "
      ]
     },
     "execution_count": 7,
     "metadata": {},
     "output_type": "execute_result"
    }
   ],
   "source": [
    "%%time\n",
    "pd.options.display.max_colwidth = 1000\n",
    "#Data cleaning\n",
    "df['Reviews_clean']=df['Reviews'].apply(data_cleaning)\n",
    "df.head(5)"
   ]
  },
  {
   "cell_type": "markdown",
   "id": "22792515",
   "metadata": {},
   "source": [
    "# Feature Engineering"
   ]
  },
  {
   "cell_type": "code",
   "execution_count": 9,
   "id": "b73b8874",
   "metadata": {},
   "outputs": [
    {
     "name": "stdout",
     "output_type": "stream",
     "text": [
      "Label\n",
      "0    60000\n",
      "1    60000\n",
      "Name: count, dtype: int64\n"
     ]
    }
   ],
   "source": [
    "#Mapping rating data to Binary label 1 (+ve) if rating >=7 and 0 (-ve) if rating <=4 and 2 (neutral) if rating = 5 or 6\n",
    "df['Label'] = df['Ratings'].apply(lambda x: '1' if x >= 7 else ('0' if x<=4 else '2'))\n",
    "#Removing \n",
    "df=df[df.Label<'2']\n",
    "data=df[['Reviews_clean','Label']]\n",
    "print(data['Label'].value_counts())"
   ]
  },
  {
   "cell_type": "code",
   "execution_count": 10,
   "id": "7ad126e0",
   "metadata": {},
   "outputs": [],
   "source": [
    "#Importing dependencies for feature engineering \n",
    "import sys\n",
    "import os\n",
    "from sklearn.feature_extraction.text import CountVectorizer\n",
    "from sklearn.feature_extraction.text import TfidfVectorizer\n",
    "from sklearn.model_selection import train_test_split\n",
    "from sklearn.linear_model import LogisticRegression\n",
    "from sklearn.ensemble import RandomForestClassifier\n",
    "import pandas as pd\n",
    "from prettytable import PrettyTable\n",
    "from nltk import word_tokenize          \n",
    "from nltk.stem import WordNetLemmatizer"
   ]
  },
  {
   "cell_type": "markdown",
   "id": "80dff66a",
   "metadata": {},
   "source": [
    "## Lemmatization"
   ]
  },
  {
   "cell_type": "code",
   "execution_count": 12,
   "id": "baff0012",
   "metadata": {},
   "outputs": [],
   "source": [
    "# lemmatization of word \n",
    "class LemmaTokenizer(object):\n",
    "    def __init__(self):\n",
    "        self.wordnetlemma = WordNetLemmatizer()\n",
    "    def __call__(self, reviews):\n",
    "        return [self.wordnetlemma.lemmatize(word) for word in word_tokenize(reviews)]"
   ]
  },
  {
   "cell_type": "markdown",
   "id": "16ce7e3f",
   "metadata": {},
   "source": [
    "## Vectoization with Count Vectorizer and TDIDF Vectorizer with Unigram"
   ]
  },
  {
   "cell_type": "code",
   "execution_count": 14,
   "id": "9eb5150d",
   "metadata": {},
   "outputs": [],
   "source": [
    "train,test=train_test_split(data,test_size=.3,random_state=42, shuffle=True)\n",
    "countvect = CountVectorizer(analyzer = \"word\", tokenizer = LemmaTokenizer(), ngram_range=(1,1), min_df=10,max_features=500)\n",
    "tfidfvect = TfidfVectorizer(analyzer = \"word\", tokenizer = LemmaTokenizer(), ngram_range=(1,1),min_df=10,max_features=500)\n",
    "x_train_count = countvect.fit_transform(train['Reviews_clean']).toarray()\n",
    "x_test_count = countvect.transform(test['Reviews_clean']).toarray()\n",
    "x_train_tfidf = tfidfvect.fit_transform(train['Reviews_clean']).toarray()\n",
    "x_test_tfidf = tfidfvect.transform(test['Reviews_clean']).toarray()\n",
    "y_train = train['Label']\n",
    "y_test = test['Label']\n"
   ]
  },
  {
   "cell_type": "markdown",
   "id": "39cc43df",
   "metadata": {},
   "source": [
    "## Feature Importance with Logistic Regression and Count Vectorizer with unigram"
   ]
  },
  {
   "cell_type": "code",
   "execution_count": 22,
   "id": "8f53df85",
   "metadata": {},
   "outputs": [
    {
     "name": "stdout",
     "output_type": "stream",
     "text": [
      "+----------------+------------------------+\n",
      "|    Feature     |         Score          |\n",
      "+----------------+------------------------+\n",
      "|      able      |  0.10525769669217451   |\n",
      "|   absolutely   |  0.056573558446910546  |\n",
      "|      act       |  -0.15615897498183448  |\n",
      "|     acting     |  -0.16907021386322338  |\n",
      "|     action     |   0.2649742327391415   |\n",
      "|     actor      |  -0.12911177742970273  |\n",
      "|    actress     |  -0.14275981752225012  |\n",
      "|    actually    |  -0.05274987885942178  |\n",
      "|      add       |  0.027075916626077355  |\n",
      "|     adult      |  0.056826745875254145  |\n",
      "|      age       |   0.0998036136296433   |\n",
      "|     alien      |  -0.07086333049417902  |\n",
      "|     almost     | -0.015407230791060551  |\n",
      "|     along      |  0.12106302371493742   |\n",
      "|    already     |  -0.20704293132030746  |\n",
      "|      also      |  0.09815827660978804   |\n",
      "|    although    |  0.19593975556121357   |\n",
      "|     always     |   0.1989447984394171   |\n",
      "|    amazing     |   0.8392415075014057   |\n",
      "|    american    |  0.04951208510127468   |\n",
      "|    annoying    |  -0.7471643651788695   |\n",
      "|    another     |  -0.15546980235815935  |\n",
      "|     anyone     | -0.019855834597535885  |\n",
      "|    anything    |   -0.291756346571132   |\n",
      "|     anyway     |  0.040970552287386434  |\n",
      "|     around     |  -0.09592156987136442  |\n",
      "|      art       | -0.005323275939954417  |\n",
      "|    attempt     |   -0.674017341884863   |\n",
      "|   attention    |  0.30555439902645387   |\n",
      "|    audience    | -0.014390474765315058  |\n",
      "|    average     |  -0.28578713008496287  |\n",
      "|      away      |  0.06333144249643602   |\n",
      "|     awful      |  -1.1933563889342238   |\n",
      "|       b        |  -0.01693222998869081  |\n",
      "|      back      |    0.0266079578787     |\n",
      "|      bad       |  -0.34626622479249936  |\n",
      "|     based      |  0.09568998893935071   |\n",
      "|   beautiful    |   0.4268720598036575   |\n",
      "|     become     |  0.09391399920447693   |\n",
      "|    becomes     |  -0.11117030165824417  |\n",
      "|     begin      |  -0.05187375326260142  |\n",
      "|   beginning    |  0.16967554424205974   |\n",
      "|     behind     | -0.034145206276945096  |\n",
      "|    believe     |  0.002975444880268503  |\n",
      "|      best      |   0.4099064652929437   |\n",
      "|     better     |  -0.05627020920606147  |\n",
      "|      big       | -0.020090251190038426  |\n",
      "|      bit       |  0.19781632197471485   |\n",
      "|     black      | -0.022662322629868576  |\n",
      "|     blood      |  -0.06256454184702674  |\n",
      "|      body      |  -0.03333228265817295  |\n",
      "|      book      | -0.044001493404587255  |\n",
      "|     boring     |  -1.0940353136505891   |\n",
      "|      boy       |  0.011565350438999141  |\n",
      "|   brilliant    |   0.9077777226288836   |\n",
      "|    brother     |  0.03419984719079475   |\n",
      "|     budget     |  0.10028111050503592   |\n",
      "|      call      |  0.01635201157276644   |\n",
      "|     called     |  -0.13832372251046043  |\n",
      "|      came      |  -0.1605639839381342   |\n",
      "|     camera     |  -0.06736241360824907  |\n",
      "|      car       |  -0.0157566400913629   |\n",
      "|      care      |  -0.20837397017577577  |\n",
      "|      case      |  -0.09458966764796209  |\n",
      "|      cast      |  0.06250990847206585   |\n",
      "|   certainly    |  0.30860114739870625   |\n",
      "|      cgi       |  -0.09418220468808744  |\n",
      "|     chance     |  0.14885934088126965   |\n",
      "|     change     |   0.1481005061785255   |\n",
      "|   character    | -0.010645582286046694  |\n",
      "|     cheap      |  -0.5957565540684772   |\n",
      "|     child      | 0.00034198326789796517 |\n",
      "|     cinema     |  0.13604935833924192   |\n",
      "| cinematography |  0.26189336988063194   |\n",
      "|    classic     |  0.30322250763309716   |\n",
      "|     close      |  0.02597178282093955   |\n",
      "|      come      | -0.024558089314682424  |\n",
      "|     comedy     |   0.019277642001133    |\n",
      "|     comic      |  0.22378725983196668   |\n",
      "|     coming     |  0.17605285312800528   |\n",
      "|    complete    |  -0.3182271992301327   |\n",
      "|   completely   |  -0.22609873994591065  |\n",
      "|      cool      |   0.1674708118238205   |\n",
      "|     couple     |  -0.10043089294641017  |\n",
      "|     course     |  0.07353282371739041   |\n",
      "|      crap      |   -0.508744195943839   |\n",
      "|    creature    |  -0.0847717609309749   |\n",
      "|     credit     |  0.053831662640385906  |\n",
      "|      cut       |  -0.04706495244387388  |\n",
      "|      dark      |  0.20297308203716863   |\n",
      "|    daughter    | -0.041816472539946664  |\n",
      "|      day       |   0.1005951736862332   |\n",
      "|      dead      |  0.010649323192488572  |\n",
      "|     death      |  0.03424913478077805   |\n",
      "|     decent     |   -0.180385434290147   |\n",
      "|   definitely   |   0.6148398572801684   |\n",
      "|    despite     |  0.03678989275760467   |\n",
      "|    dialogue    |  -0.26660950707403785  |\n",
      "|   different    |   0.3614570216693258   |\n",
      "|    directed    | -0.015035195336797846  |\n",
      "|   direction    |  -0.11965356574064506  |\n",
      "|    director    |  -0.11366991475181007  |\n",
      "|  disappointed  |  -0.4144542780573255   |\n",
      "|      done      |  0.06546797073914613   |\n",
      "|     drama      |  0.06900311716796237   |\n",
      "|      due       |  -0.08158118961130102  |\n",
      "|      dvd       |  0.07202605890368029   |\n",
      "|    editing     | -0.050488954746379974  |\n",
      "|     effect     | 0.00021333768016735627 |\n",
      "|     effort     |  -0.27751163664488254  |\n",
      "|     either     |  -0.17559921460055763  |\n",
      "|    element     |  0.08412728202144508   |\n",
      "|      else      |  -0.16564049872658396  |\n",
      "|      end       |  -0.08358986947772032  |\n",
      "|     ending     |  0.12244180550698613   |\n",
      "|     enjoy      |   0.4159934219749697   |\n",
      "|   enjoyable    |   0.7422668073888475   |\n",
      "|    enjoyed     |   0.895738769437366    |\n",
      "|     enough     |  -0.0823167513582609   |\n",
      "|  entertaining  |   0.5604119858098695   |\n",
      "| entertainment  |   0.2821034753985866   |\n",
      "|     entire     |  -0.1450759656124777   |\n",
      "|    episode     |   0.2307687741715729   |\n",
      "|   especially   |  0.23395913284489606   |\n",
      "|      etc       |  0.023222261675489107  |\n",
      "|      even      |  -0.24519482092621595  |\n",
      "|     event      |   0.0896541162590096   |\n",
      "|      ever      |  0.09975209578879907   |\n",
      "|     every      |  0.07487706548167093   |\n",
      "|    everyone    |  0.22690455227241846   |\n",
      "|   everything   |  -0.01493902045236399  |\n",
      "|      evil      |  -0.08532307250496886  |\n",
      "|    exactly     |   0.2060076221014967   |\n",
      "|    example     |  -0.27798325254118966  |\n",
      "|   excellent    |   0.9899464085466942   |\n",
      "|     except     |  -0.34300256684984676  |\n",
      "|     expect     |  0.25756032590313677   |\n",
      "|  expectation   |   0.2251100450562788   |\n",
      "|    expected    |   0.1785323970245005   |\n",
      "|   expecting    |   0.3382201774783534   |\n",
      "|   experience   |  0.20791543434810425   |\n",
      "|   extremely    |  -0.0339417931852849   |\n",
      "|      eye       |  0.13235289526547533   |\n",
      "|      face      |  0.025888100070194167  |\n",
      "|      fact      |  -0.0560537773679932   |\n",
      "|      fall      |  -0.3777190345853012   |\n",
      "|     family     |  0.10746161041797277   |\n",
      "|      fan       |  0.11216296429693133   |\n",
      "|   fantastic    |   0.7932434693809672   |\n",
      "|      far       |  -0.05993420746029204  |\n",
      "|      fast      |  0.17104964607675302   |\n",
      "|     father     |  -0.01169493035077804  |\n",
      "|    favorite    |   0.5524744555572904   |\n",
      "|    feature     |  -0.07876545381436056  |\n",
      "|      feel      |  0.05696053750700082   |\n",
      "|    feeling     | -0.005385210909517789  |\n",
      "|      felt      |  -0.19995284484776651  |\n",
      "|     female     |  -0.16984156791948893  |\n",
      "|       fi       |  0.02410776143792138   |\n",
      "|     fight      |  0.05507625405898699   |\n",
      "|      film      |  0.031676331027360914  |\n",
      "|     final      |   0.1548002697949118   |\n",
      "|    finally     |  0.11981770742525674   |\n",
      "|      find      |  0.10444130665415959   |\n",
      "|      fine      |  0.11313244681471159   |\n",
      "|     first      |  0.062338896839091266  |\n",
      "|     flick      |  0.033951615281504754  |\n",
      "|     found      |  0.062217319640564865  |\n",
      "|     friend     |  -0.03452309602620141  |\n",
      "|      full      |  0.07257680207001208   |\n",
      "|      fun       |   0.5554574324064928   |\n",
      "|     funny      |  0.07868761529263384   |\n",
      "|     future     |  0.15870489549955719   |\n",
      "|      game      |  0.13088024735009496   |\n",
      "|      gave      |  -0.10145079795704566  |\n",
      "|     genre      |  0.13728722842156163   |\n",
      "|      get       | -0.006560894776488501  |\n",
      "|    getting     |  -0.04481781981818012  |\n",
      "|      girl      |  -0.0728858204726443   |\n",
      "|      give      |   0.1620796622213165   |\n",
      "|     given      |  -0.0886803155717048   |\n",
      "|     giving     |  0.09932950249762022   |\n",
      "|       go       |  0.07864618978399242   |\n",
      "|      god       |   0.0216116131246255   |\n",
      "|     going      |  -0.02374378381353834  |\n",
      "|      good      |  0.18722544328304602   |\n",
      "|      gore      |  0.18803775443156534   |\n",
      "|      got       |  -0.03174099007572179  |\n",
      "|     great      |   0.5673928715184444   |\n",
      "|     group      | -0.0009784691150871837 |\n",
      "|     guess      |  -0.47307737337252725  |\n",
      "|      guy       |  0.058963689053441015  |\n",
      "|      half      |  -0.22915061092855335  |\n",
      "|      hand      |  -0.0869560047901227   |\n",
      "|     happen     |  0.029225754120433548  |\n",
      "|    happens     |  -0.07449906254339196  |\n",
      "|      hard      |  -0.08684654197089706  |\n",
      "|      hate      |  0.27268041831721357   |\n",
      "|      head      |  -0.07146607413380815  |\n",
      "|     heart      |  0.32841257721851036   |\n",
      "|      hell      |  -0.04622263112252077  |\n",
      "+----------------+------------------------+\n"
     ]
    }
   ],
   "source": [
    "lgr = LogisticRegression()\n",
    "lgr.fit(x_train_count,y_train)\n",
    "lgr.score(x_test_count,y_test)\n",
    "lgr.coef_[0]\n",
    "i=0\n",
    "importantfeature = PrettyTable([\"Feature\", \"Score\"])\n",
    "for feature, importance in zip(countvect.get_feature_names_out(), lgr.coef_[0]):\n",
    "\n",
    "    if i<=200:\n",
    "        importantfeature.add_row([feature, importance])\n",
    "        i=i+1\n",
    "print(importantfeature)"
   ]
  },
  {
   "cell_type": "markdown",
   "id": "d89c2b1f",
   "metadata": {},
   "source": [
    "## Feature Importance with TFIDF vectorizer and Logistic Regression with Unigram "
   ]
  },
  {
   "cell_type": "code",
   "execution_count": 27,
   "id": "310bf72e",
   "metadata": {},
   "outputs": [
    {
     "name": "stdout",
     "output_type": "stream",
     "text": [
      "+----------------+------------------------+\n",
      "|    Feature     |         Score          |\n",
      "+----------------+------------------------+\n",
      "|      able      |  0.39841347686827777   |\n",
      "|   absolutely   |   0.5096517038626065   |\n",
      "|      act       |  -1.0534922386493768   |\n",
      "|     acting     |  -1.6446853500075223   |\n",
      "|     action     |   2.6458293854668384   |\n",
      "|     actor      |   -1.338635990670246   |\n",
      "|    actress     |  -0.9970937455431731   |\n",
      "|    actually    |  -0.48421298729464446  |\n",
      "|      add       |  0.14285020160108267   |\n",
      "|     adult      |   0.7169359520386651   |\n",
      "|      age       |   0.7660918281983644   |\n",
      "|     alien      |  -0.32515614040354346  |\n",
      "|     almost     |  -0.3110121291577861   |\n",
      "|     along      |   0.7520482832740991   |\n",
      "|    already     |  -1.1736836188035684   |\n",
      "|      also      |   1.2210994141599287   |\n",
      "|    although    |   1.227799175972731    |\n",
      "|     always     |   1.7018882306785743   |\n",
      "|    amazing     |   4.823718025743152    |\n",
      "|    american    |  0.42000821909887665   |\n",
      "|    annoying    |   -3.803909516612174   |\n",
      "|    another     |  -1.3486988549698955   |\n",
      "|     anyone     |  -0.22378409559505266  |\n",
      "|    anything    |  -2.1112729809168354   |\n",
      "|     anyway     |  0.14403129163189085   |\n",
      "|     around     |  -0.7673925057405107   |\n",
      "|      art       |  0.34485280814622954   |\n",
      "|    attempt     |   -4.052707174787894   |\n",
      "|   attention    |   1.6826286934904309   |\n",
      "|    audience    |   0.4125936276115968   |\n",
      "|    average     |  -1.1543200744583575   |\n",
      "|      away      |   0.5837499413386198   |\n",
      "|     awful      |   -6.960130908466757   |\n",
      "|       b        |  -0.05499118342151826  |\n",
      "|      back      |   0.1964054888506186   |\n",
      "|      bad       |  -3.7580488173319395   |\n",
      "|     based      |   0.6025331844288928   |\n",
      "|   beautiful    |   2.791263410595516    |\n",
      "|     become     |   0.7349189526282125   |\n",
      "|    becomes     |  -0.7930551170218566   |\n",
      "|     begin      |  -0.38358834193984287  |\n",
      "|   beginning    |   0.8675883875992076   |\n",
      "|     behind     |  0.024811059308881993  |\n",
      "|    believe     |  0.016507717075544937  |\n",
      "|      best      |   3.764499806512608    |\n",
      "|     better     |  -0.48357718881949463  |\n",
      "|      big       |  -0.07050189620974248  |\n",
      "|      bit       |   1.786483335489824    |\n",
      "|     black      |  0.011527693413667162  |\n",
      "|     blood      |  -0.29332405559312186  |\n",
      "|      body      |  -0.24279877922537196  |\n",
      "|      book      |  0.14925521888017113   |\n",
      "|     boring     |   -6.685542415142667   |\n",
      "|      boy       |  0.24295780399500738   |\n",
      "|   brilliant    |   4.678666360738022    |\n",
      "|    brother     |  0.41551874514834974   |\n",
      "|     budget     |    0.78641505036034    |\n",
      "|      call      |  -0.1051066616903695   |\n",
      "|     called     |  -0.8771524873796184   |\n",
      "|      came      |  -0.3663905021664943   |\n",
      "|     camera     |  -0.6161956593381132   |\n",
      "|      car       | -0.060384858477029936  |\n",
      "|      care      |  -1.0618363917605207   |\n",
      "|      case      |  -0.35589138394544806  |\n",
      "|      cast      |  0.44751745816145533   |\n",
      "|   certainly    |   1.8895558636691792   |\n",
      "|      cgi       |  -0.2702122224996515   |\n",
      "|     chance     |   1.0594743520867278   |\n",
      "|     change     |   1.1614334942818487   |\n",
      "|   character    |  -0.09555552451769558  |\n",
      "|     cheap      |   -3.394962697227181   |\n",
      "|     child      | -0.022871281421264447  |\n",
      "|     cinema     |   0.9436896237952733   |\n",
      "| cinematography |   1.732852424797502    |\n",
      "|    classic     |   2.115830952263806    |\n",
      "|     close      |   0.1981712568561018   |\n",
      "|      come      |  -0.10424880087635198  |\n",
      "|     comedy     |   0.3873868628981898   |\n",
      "|     comic      |   1.4276055753096746   |\n",
      "|     coming     |   1.0094664302765233   |\n",
      "|    complete    |   -1.947483341266457   |\n",
      "|   completely   |  -1.5476251037958493   |\n",
      "|      cool      |   1.3976821369841903   |\n",
      "|     couple     |  -0.9104810762314833   |\n",
      "|     course     |   0.7014587776693936   |\n",
      "|      crap      |  -2.7659776166186276   |\n",
      "|    creature    |  -0.4207234894758949   |\n",
      "|     credit     |   0.2359693058116647   |\n",
      "|      cut       |  -0.6887541603432807   |\n",
      "|      dark      |   1.5685869853204633   |\n",
      "|    daughter    |  0.05365569250308787   |\n",
      "|      day       |   0.9713363701885909   |\n",
      "|      dead      | -0.011455961615028487  |\n",
      "|     death      |  0.07111725333323426   |\n",
      "|     decent     |  -0.8822049345811507   |\n",
      "|   definitely   |   4.111330892589708    |\n",
      "|    despite     |  0.21923014823014178   |\n",
      "|    dialogue    |  -1.8345277460846887   |\n",
      "|   different    |   2.959276143997214    |\n",
      "|    directed    | -0.0033765081603888553 |\n",
      "|   direction    |  -0.6113463972922085   |\n",
      "+----------------+------------------------+\n"
     ]
    }
   ],
   "source": [
    "lgr = LogisticRegression()\n",
    "lgr.fit(x_train_tfidf,y_train)\n",
    "lgr.score(x_test_tfidf,y_test)\n",
    "lgr.coef_[0]\n",
    "i=0\n",
    "importantfeature = PrettyTable([\"Feature\", \"Score\"])\n",
    "for feature, importance in zip(tfidfvect.get_feature_names_out(), lgr.coef_[0]):\n",
    "\n",
    "    if i<=100:\n",
    "        importantfeature.add_row([feature, importance])\n",
    "        i=i+1\n",
    "print(importantfeature)"
   ]
  },
  {
   "cell_type": "markdown",
   "id": "0143d777",
   "metadata": {},
   "source": [
    "## Vectorization with Count Vectorizer and TDIDF Vectorizer with Bigram"
   ]
  },
  {
   "cell_type": "code",
   "execution_count": null,
   "id": "5c665199",
   "metadata": {},
   "outputs": [],
   "source": [
    "train,test=train_test_split(data,test_size=.3,random_state=42, shuffle=True)\n",
    "countvect = CountVectorizer(analyzer = \"word\", tokenizer = LemmaTokenizer(), ngram_range=(2,2), min_df=10,max_features=500)\n",
    "tfidfvect = TfidfVectorizer(analyzer = \"word\", tokenizer = LemmaTokenizer(), ngram_range=(2,2),min_df=10,max_features=500)\n",
    "x_train_count = countvect.fit_transform(train['Reviews_clean']).toarray()\n",
    "x_test_count = countvect.transform(test['Reviews_clean']).toarray()\n",
    "x_train_tfidf = tfidfvect.fit_transform(train['Reviews_clean']).toarray()\n",
    "x_test_tfidf = tfidfvect.transform(test['Reviews_clean']).toarray()\n",
    "y_train = train['Label']\n",
    "y_test = test['Label']"
   ]
  },
  {
   "cell_type": "markdown",
   "id": "7742d10f",
   "metadata": {},
   "source": [
    "## Feature Importance with Logistic Regression and Count Vectorizer with Bigram"
   ]
  },
  {
   "cell_type": "code",
   "execution_count": null,
   "id": "38902743",
   "metadata": {},
   "outputs": [],
   "source": [
    "lgr = LogisticRegression()\n",
    "lgr.fit(x_train_count,y_train)\n",
    "lgr.score(x_test_count,y_test)\n",
    "lgr.coef_[0]\n",
    "i=0\n",
    "importantfeature = PrettyTable([\"Feature\", \"Score\"])\n",
    "for feature, importance in zip(countvect.get_feature_names(), lgr.coef_[0]):\n",
    "    if i<=200:\n",
    "        importantfeature.add_row([feature, importance])\n",
    "        i=i+1\n",
    "print(importantfeature)"
   ]
  },
  {
   "cell_type": "markdown",
   "id": "710b92c2",
   "metadata": {},
   "source": [
    "## Feature Importance with Logistic Regression and TFIDF Vectorizer with Bigram"
   ]
  },
  {
   "cell_type": "code",
   "execution_count": null,
   "id": "8a294ff6",
   "metadata": {},
   "outputs": [],
   "source": [
    "lgr.fit(x_train_tfidf,y_train)\n",
    "lgr.score(x_test_tfidf,y_test)\n",
    "lgr.coef_[0]\n",
    "i=0\n",
    "importantfeature = PrettyTable([\"Feature\", \"Score\"])\n",
    "for feature, importance in zip(tfidfvect.get_feature_names(), lgr.coef_[0]):\n",
    "    if i<=50:\n",
    "        importantfeature.add_row([feature, importance])\n",
    "        i=i+1\n",
    "print(importantfeature)"
   ]
  },
  {
   "cell_type": "code",
   "execution_count": null,
   "id": "cffb23e4",
   "metadata": {},
   "outputs": [],
   "source": [
    "pd.options.display.max_colwidth = 1000\n",
    "df[[\"Reviews\",\"Ratings\",\"Movies\"]][(df['Ratings']>=9)&(df['Reviews_clean'].str.contains(\"bad review\"))].head(100)"
   ]
  },
  {
   "cell_type": "markdown",
   "id": "1badb9f3",
   "metadata": {},
   "source": [
    "## Vectorization with Count Vectorizer and TFIDF Vectorizer with Trigram"
   ]
  },
  {
   "cell_type": "code",
   "execution_count": null,
   "id": "2749a9ac",
   "metadata": {},
   "outputs": [],
   "source": [
    "train,test=train_test_split(data,test_size=.3,random_state=42, shuffle=True)\n",
    "countvect = CountVectorizer(analyzer = \"word\", tokenizer = LemmaTokenizer(), ngram_range=(3,3), min_df=10,max_features=500)\n",
    "tfidfvect = TfidfVectorizer(analyzer = \"word\", tokenizer = LemmaTokenizer(), ngram_range=(3,3),min_df=10,max_features=500)\n",
    "x_train_count = countvect.fit_transform(train['Reviews_clean']).toarray()\n",
    "x_test_count = countvect.transform(test['Reviews_clean']).toarray()\n",
    "x_train_tfidf = tfidfvect.fit_transform(train['Reviews_clean']).toarray()\n",
    "x_test_tfidf = tfidfvect.transform(test['Reviews_clean']).toarray()\n",
    "y_train = train['Label']\n",
    "y_test = test['Label']"
   ]
  },
  {
   "cell_type": "markdown",
   "id": "3d34da4a",
   "metadata": {},
   "source": [
    "## Feature Importance with Logistic Regression and Count Vectorizer with Trigram"
   ]
  },
  {
   "cell_type": "code",
   "execution_count": null,
   "id": "c49e08a4",
   "metadata": {},
   "outputs": [],
   "source": [
    "lgr = LogisticRegression()\n",
    "lgr.fit(x_train_count,y_train)\n",
    "lgr.score(x_test_count,y_test)\n",
    "lgr.coef_[0]\n",
    "i=0\n",
    "importantfeature = PrettyTable([\"Feature\", \"Score\"])\n",
    "for feature, importance in zip(countvect.get_feature_names(), lgr.coef_[0]):\n",
    "    if i<=200:\n",
    "        importantfeature.add_row([feature, importance])\n",
    "        i=i+1\n",
    "print(importantfeature)"
   ]
  },
  {
   "cell_type": "markdown",
   "id": "8014b6fd",
   "metadata": {},
   "source": [
    "## Feature Importance with Logistic Regression and TFIDF Vectorizer with Trigram"
   ]
  },
  {
   "cell_type": "code",
   "execution_count": null,
   "id": "5faacac8",
   "metadata": {},
   "outputs": [],
   "source": [
    "lgr = LogisticRegression()\n",
    "lgr.fit(x_train_tfidf,y_train)\n",
    "lgr.score(x_test_tfidf,y_test)\n",
    "lgr.coef_[0]\n",
    "i=0\n",
    "importantfeature = PrettyTable([\"Feature\", \"Score\"])\n",
    "for feature, importance in zip(countvect.get_feature_names(), lgr.coef_[0]):\n",
    "    if i<=200:\n",
    "        importantfeature.add_row([feature, importance])\n",
    "        i=i+1\n",
    "print(importantfeature)"
   ]
  },
  {
   "cell_type": "markdown",
   "id": "256834d5",
   "metadata": {},
   "source": [
    "## Vectorization with Count Vectorizer and TDIDF Vectorizer with 4-gram"
   ]
  },
  {
   "cell_type": "code",
   "execution_count": null,
   "id": "0f19e179",
   "metadata": {},
   "outputs": [],
   "source": [
    "train,test=train_test_split(data,test_size=.3,random_state=42, shuffle=True)\n",
    "countvect = CountVectorizer(analyzer = \"word\", tokenizer = LemmaTokenizer(), ngram_range=(4,4), min_df=10,max_features=500)\n",
    "tfidfvect = TfidfVectorizer(analyzer = \"word\", tokenizer = LemmaTokenizer(), ngram_range=(4,4),min_df=10,max_features=500)\n",
    "x_train_count = countvect.fit_transform(train['Reviews_clean']).toarray()\n",
    "x_test_count = countvect.transform(test['Reviews_clean']).toarray()\n",
    "x_train_tfidf = tfidfvect.fit_transform(train['Reviews_clean']).toarray()\n",
    "x_test_tfidf = tfidfvect.transform(test['Reviews_clean']).toarray()\n",
    "y_train = train['Label']\n",
    "y_test = test['Label']"
   ]
  },
  {
   "cell_type": "markdown",
   "id": "2c2a8df4",
   "metadata": {},
   "source": [
    "## Feature Importance with Logistic Regression and Count Vectorizer with 4-gram"
   ]
  },
  {
   "cell_type": "code",
   "execution_count": null,
   "id": "b6573703",
   "metadata": {},
   "outputs": [],
   "source": [
    "lgr = LogisticRegression()\n",
    "lgr.fit(x_train_count,y_train)\n",
    "lgr.score(x_test_count,y_test)\n",
    "lgr.coef_[0]\n",
    "i=0\n",
    "importantfeature = PrettyTable([\"Feature\", \"Score\"])\n",
    "for feature, importance in zip(countvect.get_feature_names(), lgr.coef_[0]):\n",
    "    if i<=200:\n",
    "        importantfeature.add_row([feature, importance])\n",
    "        i=i+1\n",
    "print(importantfeature)"
   ]
  },
  {
   "cell_type": "markdown",
   "id": "fae5397d",
   "metadata": {},
   "source": [
    "## Feature Importance with Logistic Regression and TDIDF Vectorizer with 4-gram"
   ]
  },
  {
   "cell_type": "code",
   "execution_count": null,
   "id": "efe7b8fb",
   "metadata": {},
   "outputs": [],
   "source": [
    "lgr = LogisticRegression()\n",
    "lgr.fit(x_train_tfidf,y_train)\n",
    "lgr.score(x_test_tfidf,y_test)\n",
    "lgr.coef_[0]\n",
    "i=0\n",
    "importantfeature = PrettyTable([\"Feature\", \"Score\"])\n",
    "for feature, importance in zip(tfidfvect.get_feature_names(), lgr.coef_[0]):\n",
    "    if i<=200:\n",
    "        importantfeature.add_row([feature, importance])\n",
    "        i=i+1\n",
    "print(importantfeature)"
   ]
  },
  {
   "cell_type": "markdown",
   "id": "3e48152c",
   "metadata": {},
   "source": [
    "## Vectorization with Count Vectorizer and TDIDF Vectorizer with unigram, bigram and trigram"
   ]
  },
  {
   "cell_type": "code",
   "execution_count": null,
   "id": "d6d38c04",
   "metadata": {},
   "outputs": [],
   "source": [
    "train,test=train_test_split(data,test_size=.3,random_state=42, shuffle=True)\n",
    "countvect = CountVectorizer(analyzer = \"word\", tokenizer = LemmaTokenizer(), ngram_range=(1,3), min_df=10,max_features=5000)\n",
    "tfidfvect = TfidfVectorizer(analyzer = \"word\", tokenizer = LemmaTokenizer(), ngram_range=(1,3),min_df=10,max_features=5000)\n",
    "x_train_count = countvect.fit_transform(train['Reviews_clean']).toarray()\n",
    "x_test_count = countvect.transform(test['Reviews_clean']).toarray()\n",
    "x_train_tfidf = tfidfvect.fit_transform(train['Reviews_clean']).toarray()\n",
    "x_test_tfidf = tfidfvect.transform(test['Reviews_clean']).toarray()\n",
    "y_train = train['Label']\n",
    "y_test = test['Label']"
   ]
  },
  {
   "cell_type": "markdown",
   "id": "306f26de",
   "metadata": {},
   "source": [
    "## Feature Selection with Chi squared"
   ]
  },
  {
   "cell_type": "code",
   "execution_count": null,
   "id": "259f9e7d",
   "metadata": {},
   "outputs": [],
   "source": [
    "from sklearn.feature_selection import chi2\n",
    "import numpy as np\n",
    "N = 5000\n",
    "Number = 1\n",
    "featureselection = PrettyTable([\"Unigram\", \"Bigram\",\"Trigram\"])\n",
    "for category in train['Label'].unique():\n",
    "    features_chi2 = chi2(x_train_tfidf, train['Label'] == category)\n",
    "    indices = np.argsort(features_chi2[0])\n",
    "    feature_names = np.array(tfidfvect.get_feature_names())[indices]\n",
    "    unigrams = [x for x in feature_names if len(x.split(' ')) == 1]\n",
    "    bigrams = [x for x in feature_names if len(x.split(' ')) == 2]\n",
    "    trigrams = [x for x in feature_names if len(x.split(' ')) == 3]\n",
    "    print(\"%s. %s :\" % (Number,category))\n",
    "    print(\"\\t# Unigrams :\\n\\t. %s\" %('\\n\\t. '.join(unigrams[-N:])))\n",
    "    print(\"\\t# Bigrams :\\n\\t. %s\" %('\\n\\t. '.join(bigrams[-N:])))\n",
    "    print(\"\\t# Trigrams :\\n\\t. %s\" %('\\n\\t. '.join(trigrams[-N:])))\n",
    "    Number += 1"
   ]
  },
  {
   "cell_type": "code",
   "execution_count": null,
   "id": "1a50222f-6444-4ddf-9404-96df09e083f4",
   "metadata": {},
   "outputs": [],
   "source": []
  },
  {
   "cell_type": "code",
   "execution_count": null,
   "id": "7726fa10-e826-4f23-8b80-bb53c9846650",
   "metadata": {},
   "outputs": [],
   "source": []
  },
  {
   "cell_type": "code",
   "execution_count": null,
   "id": "6f7ad9e8-e73d-4063-82a5-2833e05e2ce3",
   "metadata": {},
   "outputs": [],
   "source": []
  },
  {
   "cell_type": "code",
   "execution_count": null,
   "id": "43c457fa-05b5-4211-86aa-7766e67f3d14",
   "metadata": {},
   "outputs": [],
   "source": []
  }
 ],
 "metadata": {
  "kernelspec": {
   "display_name": "Python 3 (ipykernel)",
   "language": "python",
   "name": "python3"
  },
  "language_info": {
   "codemirror_mode": {
    "name": "ipython",
    "version": 3
   },
   "file_extension": ".py",
   "mimetype": "text/x-python",
   "name": "python",
   "nbconvert_exporter": "python",
   "pygments_lexer": "ipython3",
   "version": "3.12.3"
  }
 },
 "nbformat": 4,
 "nbformat_minor": 5
}
